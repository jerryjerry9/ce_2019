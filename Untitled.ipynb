{
 "cells": [
  {
   "cell_type": "code",
   "execution_count": 2,
   "metadata": {
    "collapsed": true
   },
   "outputs": [
    {
     "name": "stdout",
     "output_type": "stream",
     "text": [
      "      0      1      2           3      4           5       6           7   \\\n",
      "0  250.0  148.0  101.0  118.350000  109.7  161.955556  115.50  109.768027   \n",
      "1    2.0    3.0    1.0   15.000000    5.0   15.000000    4.00   14.000000   \n",
      "2    3.0    3.0    1.0   47.000000    6.0   18.000000    5.00   72.000000   \n",
      "3    1.5    1.0    1.0    3.133333    1.2    1.200000    1.25    5.142857   \n",
      "4    0.0   69.0   82.0   90.000000  111.0  118.000000  135.00  140.000000   \n",
      "5    1.0   71.0   82.0  104.000000  115.0  132.000000  138.00  153.000000   \n",
      "\n",
      "      8           9   ...      89           90      91      92      93  \\\n",
      "0  102.0  111.300926  ...   103.0   104.729167   102.0   101.0   111.5   \n",
      "1    1.0   18.000000  ...     1.0     4.000000     1.0     1.0     2.0   \n",
      "2    1.0   40.000000  ...     1.0    11.000000     1.0     1.0     2.0   \n",
      "3    1.0    2.222222  ...     1.0     2.750000     1.0     1.0     1.0   \n",
      "4  394.0  398.000000  ...  8369.0  8395.000000  8412.0  8455.0  8488.0   \n",
      "5  394.0  415.000000  ...  8369.0  8398.000000  8412.0  8455.0  8489.0   \n",
      "\n",
      "       94      95           96      97      98  \n",
      "0   122.0   105.0   103.666667   108.5   159.0  \n",
      "1     1.0     2.0     3.000000     2.0     2.0  \n",
      "2     1.0     2.0     3.000000     2.0     2.0  \n",
      "3     1.0     1.0     1.000000     1.0     1.0  \n",
      "4  8496.0  8531.0  8586.000000  8599.0  8755.0  \n",
      "5  8496.0  8532.0  8588.000000  8600.0  8756.0  \n",
      "\n",
      "[6 rows x 99 columns]\n",
      "         0         1    2         3         4         5         6         7   \\\n",
      "0  0.839437  0.264789  0.0  0.097746  0.049014  0.343412  0.081690  0.049397   \n",
      "1  0.033333  0.066667  0.0  0.466667  0.133333  0.466667  0.100000  0.433333   \n",
      "2  0.008772  0.008772  0.0  0.201754  0.021930  0.074561  0.017544  0.311404   \n",
      "3  0.075377  0.000000  0.0  0.321608  0.030151  0.030151  0.037688  0.624551   \n",
      "\n",
      "         8         9   ...        89        90        91   92        93  \\\n",
      "0  0.005634  0.058033  ...  0.011268  0.021009  0.005634  0.0  0.059155   \n",
      "1  0.000000  0.566667  ...  0.000000  0.100000  0.000000  0.0  0.033333   \n",
      "2  0.000000  0.171053  ...  0.000000  0.043860  0.000000  0.0  0.004386   \n",
      "3  0.000000  0.184255  ...  0.000000  0.263819  0.000000  0.0  0.000000   \n",
      "\n",
      "        94        95        96        97        98  \n",
      "0  0.11831  0.022535  0.015023  0.042254  0.326761  \n",
      "1  0.00000  0.033333  0.066667  0.033333  0.033333  \n",
      "2  0.00000  0.004386  0.008772  0.004386  0.004386  \n",
      "3  0.00000  0.000000  0.000000  0.000000  0.000000  \n",
      "\n",
      "[4 rows x 99 columns]\n"
     ]
    }
   ],
   "source": [
    "#!/usr/bin/env python\n",
    "import numpy as np\n",
    "import pandas as pd\n",
    "import matplotlib.pyplot as plt\n",
    "import matplotlib as mpl\n",
    "from sklearn.cluster import KMeans\n",
    "from sklearn.cluster import AffinityPropagation\n",
    "from sklearn.cluster import SpectralClustering\n",
    "\n",
    "above100 = np.load('pm_above100.npy')\n",
    "avepm = np.load('ave_pmvalue.npy')\n",
    "ave_sta = np.load('ave_station.npy')\n",
    "def normalize(x):\n",
    "    x = x\n",
    "    return (x - x.min()) / (np.ptp(x))\n",
    "noravepm = normalize(avepm)\n",
    "noravesta = normalize(ave_sta)\n",
    "lasting = normalize(above100[:,2])\n",
    "poindex = normalize(above100[:,3])\n",
    "\n",
    "#print(above100[:,2])\n",
    "#print(above100[:,3])\n",
    "\n",
    "#print(nor)\n",
    "#print()\n",
    "#print(above100[:,3])\n",
    "test = np.zeros((4,99),dtype=float)\n",
    "testcorr = np.zeros((6,99),dtype=float)\n",
    "for i  in range(0,99):\n",
    " test[0,i]=noravepm[i,0]\n",
    " test[1,i]=lasting[i,]\n",
    " test[2,i]=poindex[i,]\n",
    " test[3,i]=noravesta[i,0]\n",
    " testcorr[0,i]=avepm[i,0]\n",
    " testcorr[1,i]=above100[i,2]\n",
    " testcorr[2,i]=above100[i,3]\n",
    " testcorr[3,i]=ave_sta[i,0]\n",
    " testcorr[4,i]=above100[i,0]\n",
    " testcorr[5,i]=above100[i,1]\n",
    "\n",
    "\n",
    "eventf=pd.DataFrame(testcorr)\n",
    "eventff=pd.DataFrame(test)\n",
    "eventcor=eventf.corr()\n",
    "aa=eventcor.head()\n",
    "print(eventf)#print(test)\n",
    "print(eventff)"
   ]
  },
  {
   "cell_type": "code",
   "execution_count": 4,
   "metadata": {},
   "outputs": [
    {
     "name": "stdout",
     "output_type": "stream",
     "text": [
      "[2 1 1 0 1 0 1 0 1 0 4 1 1 1 4 0 1 0 0 1 1 3 1 1 1 1 1 1 0 4 1 1 1 1 1 1 4\n",
      " 1 1 1 1 1 4 1 1 4 1 1 4 1 1 1 1 1 1 1 1 1 2 1 2 1 1 1 1 2 1 1 1 1 1 1 1 1\n",
      " 1 1 4 4 1 1 4 4 1 0 1 1 1 1 1 1 4 1 1 1 1 1 1 1 1]\n",
      "[3 3 4 0 4 0 4 1 4 0 1 4 4 4 1 0 3 0 2 0 4 2 4 4 4 4 4 4 2 0 4 4 4 4 4 1 1\n",
      " 4 4 4 4 4 0 4 4 0 4 4 4 4 4 4 4 1 4 4 4 1 3 4 3 4 3 3 4 3 4 4 4 4 4 4 4 4\n",
      " 4 4 1 1 4 4 1 0 4 1 4 4 4 4 1 4 1 4 4 4 4 4 4 4 3]\n",
      "AffinityPropagation(affinity='euclidean', convergence_iter=15, copy=True,\n",
      "          damping=0.5, max_iter=200, preference=None, verbose=False)\n",
      "[11 14  9  4  0  1  0  2  9  4 13  9  9  9  3  4 10  4  5  0  9  6  9 13  9\n",
      "  9  9  9  7  8  0  9  9  9  9 13 12  9  9  9 10 13  8  0 13  8 10  9  8  9\n",
      "  9  0  9 13  9  9  9 13 11  9 14  9 14 14 10 14  9 13  9  0 13  0  9  9  9\n",
      " 13  8 12  9  0  3  8 10  3  9  0  9  9 13  9 13  9  9  9 10  9  9  9 14]\n"
     ]
    },
    {
     "data": {
      "image/png": "[encoded data removed]",
      "text/plain": [
       "<matplotlib.figure.Figure at 0x10670e1d0>"
      ]
     },
     "metadata": {
      "needs_background": "light"
     },
     "output_type": "display_data"
    }
   ],
   "source": [
    "kmeans = KMeans(n_clusters=5, random_state=0).fit(test.T)\n",
    "print(kmeans.labels_) \n",
    "\n",
    "spc = SpectralClustering(n_clusters=5, assign_labels=\"discretize\", random_state=0)\n",
    "spc.fit(test.T)\n",
    "print(spc.labels_)\n",
    "\n",
    "apc = AffinityPropagation().fit(test.T)\n",
    "print(apc)\n",
    "print(apc.labels_)\n",
    "#for i  in range(0,14):\n",
    "# print(testcorr[:,i])\n",
    "\n",
    "\n",
    "\n",
    "#apc_cor = AffinityPropagation(damping=0.9, affinity='precomputed', preference=0.1).fit(eventf.corr().fillna(0))\n",
    "#aaaaa=test[1:2,:].shape\n",
    "#print(aaaaa)\n",
    "plt.scatter(testcorr[4,:],kmeans.labels_[:,],marker=(5, 2))\n",
    "plt.show()"
   ]
  }
 ],
 "metadata": {
  "kernelspec": {
   "display_name": "Python 3",
   "language": "python",
   "name": "python3"
  },
  "language_info": {
   "codemirror_mode": {
    "name": "ipython",
    "version": 3
   },
   "file_extension": ".py",
   "mimetype": "text/x-python",
   "name": "python",
   "nbconvert_exporter": "python",
   "pygments_lexer": "ipython3",
   "version": "3.6.0"
  }
 },
 "nbformat": 4,
 "nbformat_minor": 2
}
