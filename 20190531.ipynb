{
 "cells": [
  {
   "cell_type": "code",
   "execution_count": 19,
   "metadata": {},
   "outputs": [],
   "source": [
    "%matplotlib inline\n",
    "import matplotlib.pyplot as plt\n",
    "import numpy as np\n",
    "import pandas as pd\n",
    "from sklearn import preprocessing\n",
    "import time\n",
    "from sklearn.linear_model import LogisticRegression, LassoCV\n",
    "from sklearn.feature_selection import RFECV\n",
    "# For Chinese font\n",
    "from matplotlib.font_manager import FontProperties\n",
    "font = FontProperties(fname=\"NotoSansCJKtc-Regular.otf\", size=10)"
   ]
  },
  {
   "cell_type": "code",
   "execution_count": 3,
   "metadata": {},
   "outputs": [
    {
     "name": "stdout",
     "output_type": "stream",
     "text": [
      "[ 773 1256 1613]\n"
     ]
    },
    {
     "data": {
      "image/png": "[encoded data removed]",
      "text/plain": [
       "<matplotlib.figure.Figure at 0x10eff8e48>"
      ]
     },
     "metadata": {
      "needs_background": "light"
     },
     "output_type": "display_data"
    }
   ],
   "source": [
    "\n",
    "\n",
    "from sklearn.cluster import AgglomerativeClustering\n",
    "from sklearn import linear_model\n",
    "ncluster = 3\n",
    "data11 = pd.read_csv('apts_68station.csv')\n",
    "hc = AgglomerativeClustering(n_clusters=ncluster, affinity='euclidean', linkage='ward')  \n",
    "hc.fit_predict(data11.T) \n",
    "\n",
    "print(np.bincount(hc.labels_))\n",
    "#print(hc.labels_)\n",
    "\n",
    "for i in range(ncluster):\n",
    "    plt.plot(data11.iloc[:,hc.labels_==i].mean(axis=1),label=i)\n",
    "plt.legend()\n",
    "plt.tight_layout()\n",
    "plt.show()\n",
    "\n"
   ]
  },
  {
   "cell_type": "code",
   "execution_count": 25,
   "metadata": {},
   "outputs": [
    {
     "name": "stdout",
     "output_type": "stream",
     "text": [
      "(3642,)\n"
     ]
    }
   ],
   "source": [
    "\n",
    "\n",
    "YY = (hc.labels_==0)*1\n",
    "YY = np.array(YY).flatten()\n",
    "print(Y.shape)\n",
    "\n"
   ]
  },
  {
   "cell_type": "code",
   "execution_count": 5,
   "metadata": {},
   "outputs": [
    {
     "name": "stdout",
     "output_type": "stream",
     "text": [
      "(3651, 673)\n",
      "(3651, 672)\n"
     ]
    }
   ],
   "source": [
    "allrh700 = pd.read_csv('lts_local.csv')\n",
    "print(allrh700.shape)\n",
    "allrh700.head()\n",
    "from sklearn.decomposition import PCA\n",
    "forpca= allrh700.iloc[:,1:]\n",
    "print(forpca.shape)\n",
    "pca = PCA(n_components=200)                                  # Initialize a PCA with 10 PCs\n",
    "pca.fit(forpca)                                               # Calculate PCA\n",
    "proj = pca.transform(forpca) "
   ]
  },
  {
   "cell_type": "code",
   "execution_count": 6,
   "metadata": {},
   "outputs": [
    {
     "name": "stdout",
     "output_type": "stream",
     "text": [
      "(3651, 673)\n",
      "(3651, 672)\n"
     ]
    }
   ],
   "source": [
    "allrh700 = pd.read_csv('pv_local.csv')\n",
    "print(allrh700.shape)\n",
    "allrh700.head()\n",
    "from sklearn.decomposition import PCA\n",
    "forpca= allrh700.iloc[:,1:]\n",
    "print(forpca.shape)\n",
    "pca = PCA(n_components=200)                                  # Initialize a PCA with 10 PCs\n",
    "pca.fit(forpca)                                               # Calculate PCA\n",
    "projpv = pca.transform(forpca)   "
   ]
  },
  {
   "cell_type": "code",
   "execution_count": 12,
   "metadata": {},
   "outputs": [
    {
     "name": "stdout",
     "output_type": "stream",
     "text": [
      "(3642, 6720)\n"
     ]
    }
   ],
   "source": [
    "\n",
    "\n",
    "allrh850 = pd.read_csv('tw_h500.csv')\n",
    "from sklearn.decomposition import PCA\n",
    "forpca= allrh850.iloc[:,1:]\n",
    "print(forpca.shape)\n",
    "pca = PCA(n_components=200)                                  # Initialize a PCA with 10 PCs\n",
    "pca.fit(forpca)                                               # Calculate PCA\n",
    "projh500 = pca.transform(forpca) "
   ]
  },
  {
   "cell_type": "code",
   "execution_count": 8,
   "metadata": {},
   "outputs": [
    {
     "name": "stdout",
     "output_type": "stream",
     "text": [
      "(3651, 672)\n"
     ]
    }
   ],
   "source": [
    "\n",
    "\n",
    "allrh850 = pd.read_csv('th925_local.csv')\n",
    "from sklearn.decomposition import PCA\n",
    "forpca= allrh850.iloc[:,1:]\n",
    "print(forpca.shape)\n",
    "pca = PCA(n_components=200)                                  # Initialize a PCA with 10 PCs\n",
    "pca.fit(forpca)                                               # Calculate PCA\n",
    "projth925 = pca.transform(forpca) "
   ]
  },
  {
   "cell_type": "code",
   "execution_count": 9,
   "metadata": {},
   "outputs": [
    {
     "name": "stdout",
     "output_type": "stream",
     "text": [
      "(3651, 672)\n"
     ]
    }
   ],
   "source": [
    "allrh850 = pd.read_csv('div925_local.csv')\n",
    "from sklearn.decomposition import PCA\n",
    "forpca= allrh850.iloc[:,1:]\n",
    "print(forpca.shape)\n",
    "pca = PCA(n_components=200)                                  # Initialize a PCA with 10 PCs\n",
    "pca.fit(forpca)                                               # Calculate PCA\n",
    "projdiv925 = pca.transform(forpca)"
   ]
  },
  {
   "cell_type": "code",
   "execution_count": 10,
   "metadata": {},
   "outputs": [
    {
     "name": "stdout",
     "output_type": "stream",
     "text": [
      "(3651, 672)\n"
     ]
    }
   ],
   "source": [
    "allrh850 = pd.read_csv('div700_local.csv')\n",
    "from sklearn.decomposition import PCA\n",
    "forpca= allrh850.iloc[:,1:]\n",
    "print(forpca.shape)\n",
    "pca = PCA(n_components=200)                                  # Initialize a PCA with 10 PCs\n",
    "pca.fit(forpca)                                               # Calculate PCA\n",
    "projdiv700 = pca.transform(forpca)"
   ]
  },
  {
   "cell_type": "code",
   "execution_count": 11,
   "metadata": {},
   "outputs": [
    {
     "name": "stdout",
     "output_type": "stream",
     "text": [
      "(3651, 672)\n"
     ]
    }
   ],
   "source": [
    "allrh850 = pd.read_csv('th700_local.csv')\n",
    "from sklearn.decomposition import PCA\n",
    "forpca= allrh850.iloc[:,1:]\n",
    "print(forpca.shape)\n",
    "pca = PCA(n_components=200)                                  # Initialize a PCA with 10 PCs\n",
    "pca.fit(forpca)                                               # Calculate PCA\n",
    "projth700 = pca.transform(forpca) "
   ]
  },
  {
   "cell_type": "code",
   "execution_count": 13,
   "metadata": {},
   "outputs": [],
   "source": [
    "\n",
    "nor_lts = preprocessing.scale(proj,axis=0)\n",
    "nor_pv = preprocessing.scale(projpv,axis=0)\n",
    "nor_h500 = preprocessing.scale(projh500,axis=0)\n",
    "nor_th925 = preprocessing.scale(projth925,axis=0)\n",
    "nor_div925 = preprocessing.scale(projdiv925,axis=0)\n",
    "nor_th700 = preprocessing.scale(projth700,axis=0)\n",
    "nor_div700 = preprocessing.scale(projdiv700,axis=0)\n",
    "\n"
   ]
  },
  {
   "cell_type": "code",
   "execution_count": 49,
   "metadata": {},
   "outputs": [],
   "source": [
    "akk=np.empty((3642,210))\n",
    "\n",
    "akk[:,0:30] = nor_lts[0:3642,0:30]\n",
    "akk[:,30:60] = nor_pv[0:3642,0:30]\n",
    "akk[:,60:90] = nor_th925[0:3642,0:30]\n",
    "akk[:,90:120] = nor_div925[0:3642,0:30]\n",
    "akk[:,120:150] = nor_h500[0:3642,0:30]\n",
    "akk[:,150:180] = nor_th700[0:3642,0:30]\n",
    "akk[:,180:210] = nor_div700[0:3642,0:30]\n"
   ]
  },
  {
   "cell_type": "code",
   "execution_count": 50,
   "metadata": {},
   "outputs": [
    {
     "name": "stdout",
     "output_type": "stream",
     "text": [
      "Data dimension: \n",
      "    Training set: \n",
      "(2912, 210)\n",
      "(2912,)\n",
      "    Test set: \n",
      "(730, 210)\n",
      "(730,)\n",
      "\n"
     ]
    }
   ],
   "source": [
    "\n",
    "\n",
    "# Split data into training and testing: 2005~2013 for training, and 2014 for testing\n",
    "x_test = np.array(akk[2912:,:])\n",
    "y_test = np.array(YY[2912:,])\n",
    "X = np.array(akk[:2912,:])\n",
    "Y = np.array(YY[:2912,])\n",
    "\n",
    "#\n",
    "print('Data dimension: ')\n",
    "print('    Training set: ')\n",
    "print(X.shape)\n",
    "print(Y.shape)\n",
    "print('    Test set: ')\n",
    "print(x_test.shape)\n",
    "print(y_test.shape)\n",
    "print()\n",
    "\n",
    "\n",
    "# Metrics function for reuse\n",
    "def evaluate_model(y_true, y_pred):\n",
    "    # Create confusion matrix\n",
    "    cfm = pd.crosstab(y_true, y_pred, rownames=['Truth'], colnames=['Prediction'])\n",
    "    # Create report\n",
    "    from sklearn.metrics import accuracy_score, classification_report\n",
    "    cr = classification_report(y_true, y_pred)\n",
    "    return({'matrix':cfm, 'report':cr})"
   ]
  },
  {
   "cell_type": "code",
   "execution_count": null,
   "metadata": {},
   "outputs": [],
   "source": []
  },
  {
   "cell_type": "code",
   "execution_count": 51,
   "metadata": {},
   "outputs": [
    {
     "name": "stdout",
     "output_type": "stream",
     "text": [
      "(2912, 126)\n",
      "Prediction     0    1\n",
      "Truth                \n",
      "0           2022  163\n",
      "1            288  439\n",
      "\n",
      "              precision    recall  f1-score   support\n",
      "\n",
      "           0       0.88      0.93      0.90      2185\n",
      "           1       0.73      0.60      0.66       727\n",
      "\n",
      "   micro avg       0.85      0.85      0.85      2912\n",
      "   macro avg       0.80      0.76      0.78      2912\n",
      "weighted avg       0.84      0.85      0.84      2912\n",
      "\n",
      "Prediction    0   1\n",
      "Truth              \n",
      "0           607  77\n",
      "1            20  26\n",
      "\n",
      "              precision    recall  f1-score   support\n",
      "\n",
      "           0       0.97      0.89      0.93       684\n",
      "           1       0.25      0.57      0.35        46\n",
      "\n",
      "   micro avg       0.87      0.87      0.87       730\n",
      "   macro avg       0.61      0.73      0.64       730\n",
      "weighted avg       0.92      0.87      0.89       730\n",
      "\n"
     ]
    }
   ],
   "source": [
    "\n",
    "\n",
    "from sklearn.feature_selection import SelectKBest, SelectPercentile\n",
    "from sklearn.feature_selection import chi2, f_classif, mutual_info_classif\n",
    "\n",
    "sp = SelectPercentile(mutual_info_classif, percentile=60)\n",
    "sp.fit(X, Y)\n",
    "newx = sp.transform(X)\n",
    "print(newx.shape)\n",
    "\n",
    "# Fit the classifier\n",
    "glm = LogisticRegression(C=1e5, solver='lbfgs', max_iter=500)\n",
    "glm.fit(newx, Y)\n",
    "yhat = glm.predict(newx)\n",
    "\n",
    "# Show results on training data\n",
    "cfm = evaluate_model(Y, yhat)\n",
    "print(cfm['matrix'])\n",
    "print()\n",
    "print(cfm['report'])\n",
    "\n",
    "# Show results on test data\n",
    "newx_test = sp.transform(x_test)\n",
    "yhat = glm.predict(newx_test)\n",
    "cfm = evaluate_model(y_test, yhat)\n",
    "print(cfm['matrix'])\n",
    "print()\n",
    "print(cfm['report'])\n",
    "\n",
    "\n"
   ]
  },
  {
   "cell_type": "code",
   "execution_count": 52,
   "metadata": {},
   "outputs": [
    {
     "name": "stdout",
     "output_type": "stream",
     "text": [
      "Optimal number of features : 1\n"
     ]
    },
    {
     "data": {
      "image/png": "[encoded data removed]",
      "text/plain": [
       "<matplotlib.figure.Figure at 0x1a2a2c76a0>"
      ]
     },
     "metadata": {
      "needs_background": "light"
     },
     "output_type": "display_data"
    }
   ],
   "source": [
    "\n",
    "\n",
    "# Reference: https://scikit-learn.org/stable/auto_examples/feature_selection/plot_rfe_with_cross_validation.html\n",
    "from sklearn.model_selection import StratifiedKFold\n",
    "from sklearn.feature_selection import RFECV\n",
    "\n",
    "# Create the RFE object and compute a cross-validated score.\n",
    "glm = LogisticRegression(C=1e5, solver='lbfgs', max_iter=500)\n",
    "# The \"accuracy\" scoring is proportional to the number of correct classifications\n",
    "rfecv = RFECV(estimator=glm, step=1, cv=StratifiedKFold(5), scoring='brier_score_loss')\n",
    "rfecv.fit(X, Y)\n",
    "\n",
    "print(\"Optimal number of features : %d\" % rfecv.n_features_)\n",
    "\n",
    "# Plot number of features VS. cross-validation scores\n",
    "plt.figure()\n",
    "plt.xlabel(\"Number of features selected\")\n",
    "plt.ylabel(\"Cross validation score (nb of correct classifications)\")\n",
    "plt.plot(range(1, len(rfecv.grid_scores_) + 1), rfecv.grid_scores_)\n",
    "plt.show()\n",
    "\n"
   ]
  },
  {
   "cell_type": "code",
   "execution_count": 53,
   "metadata": {},
   "outputs": [
    {
     "name": "stdout",
     "output_type": "stream",
     "text": [
      "[False False False False False False False False False False False False\n",
      " False False False False False False False False False False False False\n",
      " False False False False False False False False False False False False\n",
      " False False False False False False False False False False False False\n",
      " False False False False False False False False False False False False\n",
      "  True False False False False False False False False False False False\n",
      " False False False False False False False False False False False False\n",
      " False False False False False False False False False False False False\n",
      " False False False False False False False False False False False False\n",
      " False False False False False False False False False False False False\n",
      " False False False False False False False False False False False False\n",
      " False False False False False False False False False False False False\n",
      " False False False False False False False False False False False False\n",
      " False False False False False False False False False False False False\n",
      " False False False False False False False False False False False False\n",
      " False False False False False False False False False False False False\n",
      " False False False False False False False False False False False False\n",
      " False False False False False False]\n"
     ]
    }
   ],
   "source": [
    "print(rfecv.support_)\n"
   ]
  },
  {
   "cell_type": "code",
   "execution_count": 54,
   "metadata": {},
   "outputs": [
    {
     "name": "stdout",
     "output_type": "stream",
     "text": [
      "(2912, 1)\n",
      "(730, 1)\n",
      "Prediction     0    1\n",
      "Truth                \n",
      "0           1990  195\n",
      "1            459  268\n",
      "\n",
      "              precision    recall  f1-score   support\n",
      "\n",
      "           0       0.81      0.91      0.86      2185\n",
      "           1       0.58      0.37      0.45       727\n",
      "\n",
      "   micro avg       0.78      0.78      0.78      2912\n",
      "   macro avg       0.70      0.64      0.65      2912\n",
      "weighted avg       0.75      0.78      0.76      2912\n",
      "\n",
      "Prediction    0   1\n",
      "Truth              \n",
      "0           636  48\n",
      "1            21  25\n",
      "\n",
      "              precision    recall  f1-score   support\n",
      "\n",
      "           0       0.97      0.93      0.95       684\n",
      "           1       0.34      0.54      0.42        46\n",
      "\n",
      "   micro avg       0.91      0.91      0.91       730\n",
      "   macro avg       0.66      0.74      0.68       730\n",
      "weighted avg       0.93      0.91      0.92       730\n",
      "\n"
     ]
    }
   ],
   "source": [
    "x_rfe = akk[:2912,60].reshape(-1, 1)\n",
    "x_test_rfe = akk[2912:,60].reshape(-1, 1)\n",
    "print(x_rfe.shape)\n",
    "print(x_test_rfe.shape)\n",
    "# Fit the classifier\n",
    "glm = LogisticRegression(C=1e5, solver='lbfgs', max_iter=500)\n",
    "glm.fit(x_rfe, Y)\n",
    "yhat = glm.predict(x_rfe)\n",
    "\n",
    "# Show results on training set\n",
    "cfm = evaluate_model(Y, yhat)\n",
    "print(cfm['matrix'])\n",
    "print()\n",
    "print(cfm['report'])\n",
    "\n",
    "# Show results on test set\n",
    "yhat = glm.predict(x_test_rfe)\n",
    "cfm = evaluate_model(y_test, yhat)\n",
    "print(cfm['matrix'])\n",
    "print()\n",
    "print(cfm['report'])"
   ]
  },
  {
   "cell_type": "code",
   "execution_count": null,
   "metadata": {},
   "outputs": [],
   "source": [
    "925的位溫的pc1"
   ]
  },
  {
   "cell_type": "code",
   "execution_count": null,
   "metadata": {},
   "outputs": [],
   "source": []
  }
 ],
 "metadata": {
  "kernelspec": {
   "display_name": "Python 3",
   "language": "python",
   "name": "python3"
  },
  "language_info": {
   "codemirror_mode": {
    "name": "ipython",
    "version": 3
   },
   "file_extension": ".py",
   "mimetype": "text/x-python",
   "name": "python",
   "nbconvert_exporter": "python",
   "pygments_lexer": "ipython3",
   "version": "3.6.0"
  }
 },
 "nbformat": 4,
 "nbformat_minor": 2
}
