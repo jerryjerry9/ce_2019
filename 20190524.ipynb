{
 "cells": [
  {
   "cell_type": "code",
   "execution_count": 1,
   "metadata": {},
   "outputs": [],
   "source": [
    "%matplotlib inline\n",
    "import matplotlib.pyplot as plt\n",
    "import numpy as np\n",
    "import pandas as pd\n",
    "from sklearn import preprocessing\n",
    "# For Chinese font\n",
    "from matplotlib.font_manager import FontProperties\n",
    "font = FontProperties(fname=\"NotoSansCJKtc-Regular.otf\", size=10)"
   ]
  },
  {
   "cell_type": "code",
   "execution_count": 31,
   "metadata": {},
   "outputs": [
    {
     "name": "stdout",
     "output_type": "stream",
     "text": [
      "[ 773 1256 1613]\n"
     ]
    },
    {
     "data": {
      "image/png": "[encoded data removed]",
      "text/plain": [
       "<Figure size 432x288 with 1 Axes>"
      ]
     },
     "metadata": {
      "needs_background": "light"
     },
     "output_type": "display_data"
    }
   ],
   "source": [
    "from sklearn.cluster import AgglomerativeClustering\n",
    "from sklearn import linear_model\n",
    "ncluster = 3\n",
    "data11 = pd.read_csv('apts_68station.csv')\n",
    "hc = AgglomerativeClustering(n_clusters=ncluster, affinity='euclidean', linkage='ward')  \n",
    "hc.fit_predict(data11.T) \n",
    "\n",
    "print(np.bincount(hc.labels_))\n",
    "#print(hc.labels_)\n",
    "\n",
    "for i in range(ncluster):\n",
    "    plt.plot(data11.iloc[:,hc.labels_==i].mean(axis=1),label=i)\n",
    "plt.legend()\n",
    "plt.tight_layout()\n",
    "plt.show()"
   ]
  },
  {
   "cell_type": "code",
   "execution_count": 46,
   "metadata": {},
   "outputs": [
    {
     "name": "stdout",
     "output_type": "stream",
     "text": [
      "(3642, 1)\n"
     ]
    }
   ],
   "source": [
    "Y = (hc.labels_==0)*1\n",
    "Y = np.array(Y).reshape(len(Y),1)\n",
    "print(Y.shape)"
   ]
  },
  {
   "cell_type": "code",
   "execution_count": 4,
   "metadata": {},
   "outputs": [
    {
     "name": "stdout",
     "output_type": "stream",
     "text": [
      "(3651, 673)\n",
      "(3651, 672)\n"
     ]
    }
   ],
   "source": [
    "allrh700 = pd.read_csv('lts_local.csv')\n",
    "print(allrh700.shape)\n",
    "allrh700.head()\n",
    "from sklearn.decomposition import PCA\n",
    "forpca= allrh700.iloc[:,1:]\n",
    "print(forpca.shape)\n",
    "pca = PCA(n_components=200)                                  # Initialize a PCA with 10 PCs\n",
    "pca.fit(forpca)                                               # Calculate PCA\n",
    "proj = pca.transform(forpca)                                  # Derive the time series of 10 PCs\n",
    "# See prelimirary results of PCA\n",
    "#print(np.cumsum(pca.explained_variance_ratio_))\n",
    "#plt.bar(range(20),pca.explained_variance_ratio_)\n",
    "#plt.plot(np.cumsum(pca.explained_variance_ratio_), 'r-')\n",
    "#plt.show()"
   ]
  },
  {
   "cell_type": "code",
   "execution_count": 5,
   "metadata": {},
   "outputs": [
    {
     "name": "stdout",
     "output_type": "stream",
     "text": [
      "(3651, 673)\n",
      "(3651, 672)\n"
     ]
    }
   ],
   "source": [
    "allrh700 = pd.read_csv('pv_local.csv')\n",
    "print(allrh700.shape)\n",
    "allrh700.head()\n",
    "from sklearn.decomposition import PCA\n",
    "forpca= allrh700.iloc[:,1:]\n",
    "print(forpca.shape)\n",
    "pca = PCA(n_components=200)                                  # Initialize a PCA with 10 PCs\n",
    "pca.fit(forpca)                                               # Calculate PCA\n",
    "projpv = pca.transform(forpca)                                  # Derive the time series of 10 PCs\n",
    "# See prelimirary results of PCA\n",
    "#print(np.cumsum(pca.explained_variance_ratio_))\n",
    "#plt.bar(range(20),pca.explained_variance_ratio_)\n",
    "#plt.plot(np.cumsum(pca.explained_variance_ratio_), 'r-')\n",
    "#plt.show()"
   ]
  },
  {
   "cell_type": "code",
   "execution_count": 6,
   "metadata": {},
   "outputs": [
    {
     "name": "stdout",
     "output_type": "stream",
     "text": [
      "(3642, 6720)\n"
     ]
    }
   ],
   "source": [
    "allrh850 = pd.read_csv('tw_h500.csv')\n",
    "from sklearn.decomposition import PCA\n",
    "forpca= allrh850.iloc[:,1:]\n",
    "print(forpca.shape)\n",
    "pca = PCA(n_components=200)                                  # Initialize a PCA with 10 PCs\n",
    "pca.fit(forpca)                                               # Calculate PCA\n",
    "projh500 = pca.transform(forpca)                                  # Derive the time series of 10 PCs\n",
    "# See prelimirary results of PCA\n",
    "#print(np.cumsum(pca.explained_variance_ratio_))"
   ]
  },
  {
   "cell_type": "code",
   "execution_count": 7,
   "metadata": {},
   "outputs": [
    {
     "name": "stdout",
     "output_type": "stream",
     "text": [
      "(3651, 672)\n"
     ]
    }
   ],
   "source": [
    "allrh850 = pd.read_csv('th925_local.csv')\n",
    "from sklearn.decomposition import PCA\n",
    "forpca= allrh850.iloc[:,1:]\n",
    "print(forpca.shape)\n",
    "pca = PCA(n_components=200)                                  # Initialize a PCA with 10 PCs\n",
    "pca.fit(forpca)                                               # Calculate PCA\n",
    "projth925 = pca.transform(forpca)                                  # Derive the time series of 10 PCs\n",
    "# See prelimirary results of PCA\n",
    "#print(np.cumsum(pca.explained_variance_ratio_))"
   ]
  },
  {
   "cell_type": "code",
   "execution_count": 8,
   "metadata": {},
   "outputs": [
    {
     "name": "stdout",
     "output_type": "stream",
     "text": [
      "(3651, 672)\n"
     ]
    }
   ],
   "source": [
    "allrh850 = pd.read_csv('div925_local.csv')\n",
    "from sklearn.decomposition import PCA\n",
    "forpca= allrh850.iloc[:,1:]\n",
    "print(forpca.shape)\n",
    "pca = PCA(n_components=200)                                  # Initialize a PCA with 10 PCs\n",
    "pca.fit(forpca)                                               # Calculate PCA\n",
    "projdiv925 = pca.transform(forpca)                                  # Derive the time series of 10 PCs\n",
    "# See prelimirary results of PCA\n",
    "#print(np.cumsum(pca.explained_variance_ratio_))"
   ]
  },
  {
   "cell_type": "code",
   "execution_count": 23,
   "metadata": {},
   "outputs": [
    {
     "name": "stdout",
     "output_type": "stream",
     "text": [
      "(3651, 672)\n"
     ]
    }
   ],
   "source": [
    "allrh850 = pd.read_csv('div700_local.csv')\n",
    "from sklearn.decomposition import PCA\n",
    "forpca= allrh850.iloc[:,1:]\n",
    "print(forpca.shape)\n",
    "pca = PCA(n_components=200)                                  # Initialize a PCA with 10 PCs\n",
    "pca.fit(forpca)                                               # Calculate PCA\n",
    "projdiv700 = pca.transform(forpca)       "
   ]
  },
  {
   "cell_type": "code",
   "execution_count": 24,
   "metadata": {},
   "outputs": [
    {
     "name": "stdout",
     "output_type": "stream",
     "text": [
      "(3651, 672)\n"
     ]
    }
   ],
   "source": [
    "allrh850 = pd.read_csv('th700_local.csv')\n",
    "from sklearn.decomposition import PCA\n",
    "forpca= allrh850.iloc[:,1:]\n",
    "print(forpca.shape)\n",
    "pca = PCA(n_components=200)                                  # Initialize a PCA with 10 PCs\n",
    "pca.fit(forpca)                                               # Calculate PCA\n",
    "projth700 = pca.transform(forpca)                                  # Derive the time series of 10 PCs\n",
    "# See prelimirary results of PCA"
   ]
  },
  {
   "cell_type": "code",
   "execution_count": 33,
   "metadata": {},
   "outputs": [],
   "source": [
    "nor_lts = preprocessing.scale(proj,axis=0)\n",
    "nor_pv = preprocessing.scale(projpv,axis=0)\n",
    "nor_h500 = preprocessing.scale(projh500,axis=0)\n",
    "nor_th925 = preprocessing.scale(projth925,axis=0)\n",
    "nor_div925 = preprocessing.scale(projdiv925,axis=0)\n",
    "nor_th700 = preprocessing.scale(projth700,axis=0)\n",
    "nor_div700 = preprocessing.scale(projdiv700,axis=0)"
   ]
  },
  {
   "cell_type": "code",
   "execution_count": 34,
   "metadata": {},
   "outputs": [
    {
     "data": {
      "text/plain": [
       "(3651, 200)"
      ]
     },
     "execution_count": 34,
     "metadata": {},
     "output_type": "execute_result"
    }
   ],
   "source": [
    "nor_lts.shape"
   ]
  },
  {
   "cell_type": "code",
   "execution_count": 55,
   "metadata": {},
   "outputs": [],
   "source": [
    "akk=np.empty((3642,140))\n",
    "\n",
    "akk[:,0:20] = nor_lts[0:3642,0:20]\n",
    "akk[:,20:40] = nor_pv[0:3642,0:20]\n",
    "akk[:,40:60] = nor_th925[0:3642,0:20]\n",
    "akk[:,60:80] = nor_div925[0:3642,0:20]\n",
    "akk[:,80:100] = nor_h500[0:3642,0:20]\n",
    "akk[:,100:120] = nor_th700[0:3642,0:20]\n",
    "akk[:,120:140] = nor_div700[0:3642,0:20]"
   ]
  },
  {
   "cell_type": "code",
   "execution_count": 56,
   "metadata": {},
   "outputs": [],
   "source": [
    "y=Y\n",
    "x=akk"
   ]
  },
  {
   "cell_type": "code",
   "execution_count": 48,
   "metadata": {},
   "outputs": [
    {
     "name": "stdout",
     "output_type": "stream",
     "text": [
      "Train: 2913 | test: 729 | Y=1: 0.35939643347050754\n",
      "Train: 2913 | test: 729 | Y=1: 0.30315500685871055\n",
      "Train: 2914 | test: 728 | Y=1: 0.23901098901098902\n",
      "Train: 2914 | test: 728 | Y=1: 0.0989010989010989\n",
      "Train: 2914 | test: 728 | Y=1: 0.06043956043956044\n"
     ]
    }
   ],
   "source": [
    "\n",
    "from sklearn.model_selection import KFold, StratifiedKFold, cross_val_score\n",
    "\n",
    "kf = KFold(n_splits=5)\n",
    "for train_indices, test_indices in kf.split(y):\n",
    "    print('Train: %s | test: %s | Y=1: %s' % (len(train_indices), len(test_indices), float(y[test_indices,:].mean())))\n",
    "\n"
   ]
  },
  {
   "cell_type": "code",
   "execution_count": 49,
   "metadata": {},
   "outputs": [
    {
     "name": "stdout",
     "output_type": "stream",
     "text": [
      "Train: 2913 | test: 729 | Y=1: 0.21262002743484226\n",
      "Train: 2913 | test: 729 | Y=1: 0.21262002743484226\n",
      "Train: 2913 | test: 729 | Y=1: 0.21262002743484226\n",
      "Train: 2914 | test: 728 | Y=1: 0.21153846153846154\n",
      "Train: 2915 | test: 727 | Y=1: 0.21182943603851445\n"
     ]
    }
   ],
   "source": [
    "\n",
    "skf = StratifiedKFold(n_splits=5)\n",
    "for train_indices, test_indices in skf.split(X=x,y=np.array(y).flatten()):\n",
    "    print('Train: %s | test: %s | Y=1: %s' % (len(train_indices), len(test_indices), float(y[test_indices,:].mean())))\n",
    "\n"
   ]
  },
  {
   "cell_type": "code",
   "execution_count": 50,
   "metadata": {},
   "outputs": [
    {
     "name": "stdout",
     "output_type": "stream",
     "text": [
      "In-sample accuracy:\n",
      "0.858045030203185\n",
      "CV accuracy:\n",
      "  5-fold CV:\n",
      "{'acc': array([0.72565158, 0.7654321 , 0.77472527, 0.88324176, 0.87637363]), 'mean': 0.8050848671219042, 'std': 0.06323651036166487}\n",
      "  Stratified 5-fold CV:\n",
      "{'acc': array([0.77777778, 0.76268861, 0.81893004, 0.82692308, 0.80330124]), 'mean': 0.7979241496715642, 'std': 0.024324956623197513}\n"
     ]
    }
   ],
   "source": [
    "from sklearn import linear_model, metrics\n",
    "# Initialize the GLM\n",
    "glm = linear_model.LogisticRegression(C=1e5, solver='lbfgs', max_iter=500)\n",
    "# Fit and see in-sample error\n",
    "glm.fit(x, np.array(y).flatten())\n",
    "print('In-sample accuracy:')\n",
    "print(glm.score(x, np.array(y).flatten()))\n",
    "\n",
    "scores_kf = cross_val_score(glm, x, np.array(y).flatten(), cv=kf)\n",
    "scores_skf = cross_val_score(glm, x, np.array(y).flatten(), cv=skf)\n",
    "print('CV accuracy:')\n",
    "print('  5-fold CV:')\n",
    "print({'acc':scores_kf, 'mean':scores_kf.mean(), 'std':scores_kf.std()})\n",
    "print('  Stratified 5-fold CV:')\n",
    "print({'acc':scores_skf, 'mean':scores_skf.mean(), 'std':scores_skf.std()})"
   ]
  },
  {
   "cell_type": "code",
   "execution_count": 40,
   "metadata": {},
   "outputs": [],
   "source": [
    "from sklearn import  datasets\n",
    "from sklearn.metrics import roc_curve, auc\n",
    "from scipy import interp"
   ]
  },
  {
   "cell_type": "code",
   "execution_count": 57,
   "metadata": {},
   "outputs": [
    {
     "data": {
      "image/png": "[encoded data removed]",
      "text/plain": [
       "<Figure size 576x576 with 1 Axes>"
      ]
     },
     "metadata": {
      "needs_background": "light"
     },
     "output_type": "display_data"
    }
   ],
   "source": [
    "X = np.array(x)\n",
    "Y = np.array(y).flatten()\n",
    "n_samples, n_features = X.shape\n",
    "# #############################################################################\n",
    "# Classification and ROC analysis\n",
    "\n",
    "# Run classifier with cross-validation and plot ROC curves\n",
    "# Initialize CV and model\n",
    "cv = StratifiedKFold(n_splits=10)\n",
    "classifier = linear_model.LogisticRegression(C=1e5, solver='lbfgs', max_iter=500)\n",
    "\n",
    "tprs = []\n",
    "aucs = []\n",
    "mean_fpr = np.linspace(0, 1, 100)\n",
    "\n",
    "# Loop through CV\n",
    "plt.figure(figsize=(8, 8))\n",
    "i = 0\n",
    "for train, test in cv.split(X, Y):\n",
    "    probas_ = classifier.fit(X[train,:], Y[train]).predict_proba(X[test,:])\n",
    "    # Compute ROC curve and area the curve\n",
    "    fpr, tpr, thresholds = roc_curve(Y[test], probas_[:, 1])\n",
    "    tprs.append(interp(mean_fpr, fpr, tpr))\n",
    "    tprs[-1][0] = 0.0\n",
    "    roc_auc = auc(fpr, tpr)\n",
    "    aucs.append(roc_auc)\n",
    "    plt.plot(fpr, tpr, lw=1, alpha=0.3, label='ROC fold %d (AUC = %0.2f)' % (i, roc_auc))\n",
    "\n",
    "    i += 1\n",
    "    \n",
    "# Make reference plot\n",
    "plt.plot([0, 1], [0, 1], linestyle='--', lw=2, color='r',\n",
    "         label='Chance', alpha=.8)\n",
    "\n",
    "mean_tpr = np.mean(tprs, axis=0)\n",
    "mean_tpr[-1] = 1.0\n",
    "mean_auc = auc(mean_fpr, mean_tpr)\n",
    "std_auc = np.std(aucs)\n",
    "plt.plot(mean_fpr, mean_tpr, color='b',\n",
    "         label=r'Mean ROC (AUC = %0.2f $\\pm$ %0.2f)' % (mean_auc, std_auc),\n",
    "         lw=2, alpha=.8)\n",
    "\n",
    "std_tpr = np.std(tprs, axis=0)\n",
    "tprs_upper = np.minimum(mean_tpr + std_tpr, 1)\n",
    "tprs_lower = np.maximum(mean_tpr - std_tpr, 0)\n",
    "plt.fill_between(mean_fpr, tprs_lower, tprs_upper, color='grey', alpha=.2,\n",
    "                 label=r'$\\pm$ 1 std. dev.')\n",
    "\n",
    "plt.xlim([-0.05, 1.05])\n",
    "plt.ylim([-0.05, 1.05])\n",
    "plt.xlabel('False Positive Rate')\n",
    "plt.ylabel('True Positive Rate')\n",
    "plt.title('Receiver operating characteristic example')\n",
    "plt.legend(loc=\"lower right\")\n",
    "plt.show()"
   ]
  },
  {
   "cell_type": "code",
   "execution_count": null,
   "metadata": {},
   "outputs": [],
   "source": []
  }
 ],
 "metadata": {
  "kernelspec": {
   "display_name": "Python 3",
   "language": "python",
   "name": "python3"
  },
  "language_info": {
   "codemirror_mode": {
    "name": "ipython",
    "version": 3
   },
   "file_extension": ".py",
   "mimetype": "text/x-python",
   "name": "python",
   "nbconvert_exporter": "python",
   "pygments_lexer": "ipython3",
   "version": "3.7.1"
  }
 },
 "nbformat": 4,
 "nbformat_minor": 2
}
